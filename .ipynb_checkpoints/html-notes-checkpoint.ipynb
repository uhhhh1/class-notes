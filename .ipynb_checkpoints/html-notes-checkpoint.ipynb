{
 "cells": [
  {
   "cell_type": "markdown",
   "id": "b8259c63-4f9c-49f3-b217-fc24bf20da69",
   "metadata": {},
   "source": [
    "# HTML Notes"
   ]
  },
  {
   "cell_type": "markdown",
   "id": "2eeb24c3-ec4a-4fee-ac0f-0369d1a8d09b",
   "metadata": {},
   "source": [
    "## subheading"
   ]
  },
  {
   "cell_type": "markdown",
   "id": "cb37eef3-a1b7-4b90-ab46-3850ed5043f2",
   "metadata": {},
   "source": [
    "### smaller heading"
   ]
  },
  {
   "cell_type": "markdown",
   "id": "08c5af14-4a4d-49e3-a0e1-228152b97946",
   "metadata": {},
   "source": [
    "this is a paragraph"
   ]
  },
  {
   "cell_type": "markdown",
   "id": "903f17b3-5d9c-4d05-92b3-8de1c2b3d256",
   "metadata": {},
   "source": [
    "In `HTML` the `<p>` tag "
   ]
  },
  {
   "cell_type": "markdown",
   "id": "642c1ac0-d458-4a73-955a-db7c71937e6c",
   "metadata": {},
   "source": [
    "```\n",
    "<p>This is a paragraph</p>\n",
    "```"
   ]
  },
  {
   "cell_type": "markdown",
   "id": "d5181a63-4a70-4183-937c-9059bd872143",
   "metadata": {},
   "source": [
    "```\n",
    "<body>\n",
    "    <p>This is a paragraph</p>\n",
    "</body>\n",
    "```"
   ]
  },
  {
   "cell_type": "markdown",
   "id": "98739870-6210-4977-8455-215a561b2c80",
   "metadata": {},
   "source": [
    "__bold text__"
   ]
  },
  {
   "cell_type": "markdown",
   "id": "ff68db01-eefc-4158-ae54-cee5f2b9d268",
   "metadata": {},
   "source": [
    "1. Hi\n",
    "2. There\n",
    "3. Hello\n",
    "4. back"
   ]
  },
  {
   "cell_type": "markdown",
   "id": "3f659c94-8e49-4999-80a4-b21d0216781e",
   "metadata": {},
   "source": [
    "*italic*"
   ]
  },
  {
   "cell_type": "markdown",
   "id": "da1bc9f4-0df1-4111-9965-74effc135625",
   "metadata": {},
   "source": [
    "**skibidi**"
   ]
  },
  {
   "cell_type": "markdown",
   "id": "b3e19206-22bf-40cb-a78c-eb5e77f24514",
   "metadata": {},
   "source": [
    "_italic_ \n",
    "*italic*"
   ]
  },
  {
   "cell_type": "markdown",
   "id": "5a49578e-df2a-4f16-84e2-011b4459b952",
   "metadata": {},
   "source": [
    "_italic_  *italic*"
   ]
  },
  {
   "cell_type": "markdown",
   "id": "10da810b-2588-4380-aedf-ffa8a661a97b",
   "metadata": {},
   "source": [
    "_italic_"
   ]
  },
  {
   "cell_type": "markdown",
   "id": "6b8f88a1-4b5d-4dde-b8da-832752289492",
   "metadata": {},
   "source": [
    "*italic*"
   ]
  },
  {
   "cell_type": "markdown",
   "id": "16eb0fa1-1009-4ec0-9ff5-9ad3bb39a3c2",
   "metadata": {},
   "source": [
    "[skibIDI](https://i.pinimg.com/originals/39/5e/7c/395e7c6e91526cc5b1b62c468180f53d.jpg)"
   ]
  },
  {
   "cell_type": "markdown",
   "id": "268c53ac-e623-4a09-98b4-4b679e575a24",
   "metadata": {},
   "source": [
    "HTML is the standard language for creating web pages. It uses a series of elements represented by tags, like this: "
   ]
  },
  {
   "cell_type": "markdown",
   "id": "b6e8fa7d-9549-4bd0-b957-9528858b049d",
   "metadata": {},
   "source": [
    "```\n",
    "<!DOCTYPE html>\n",
    "<html>\n",
    "    <head>\n",
    "    <title>Page Title</title>\n",
    "    </head>\n",
    "   <body>\n",
    "        <h1>This is a Heading</h1>\n",
    "        <p>This is a paragraph</p>\n",
    "    <body>\n",
    "</html>\n",
    "```"
   ]
  },
  {
   "cell_type": "code",
   "execution_count": null,
   "id": "718856a1-3379-4766-9926-8f889914370a",
   "metadata": {},
   "outputs": [],
   "source": []
  }
 ],
 "metadata": {
  "kernelspec": {
   "display_name": "Python 3 (ipykernel)",
   "language": "python",
   "name": "python3"
  },
  "language_info": {
   "codemirror_mode": {
    "name": "ipython",
    "version": 3
   },
   "file_extension": ".py",
   "mimetype": "text/x-python",
   "name": "python",
   "nbconvert_exporter": "python",
   "pygments_lexer": "ipython3",
   "version": "3.12.1"
  }
 },
 "nbformat": 4,
 "nbformat_minor": 5
}
