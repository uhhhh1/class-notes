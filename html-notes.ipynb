{
 "cells": [
  {
   "cell_type": "markdown",
   "id": "b8259c63-4f9c-49f3-b217-fc24bf20da69",
   "metadata": {},
   "source": [
    "# HTML Notes"
   ]
  },
  {
   "cell_type": "markdown",
   "id": "2eeb24c3-ec4a-4fee-ac0f-0369d1a8d09b",
   "metadata": {},
   "source": [
    "## subheading"
   ]
  },
  {
   "cell_type": "markdown",
   "id": "cb37eef3-a1b7-4b90-ab46-3850ed5043f2",
   "metadata": {},
   "source": [
    "### smaller heading"
   ]
  },
  {
   "cell_type": "markdown",
   "id": "08c5af14-4a4d-49e3-a0e1-228152b97946",
   "metadata": {},
   "source": [
    "this is a paragraph"
   ]
  },
  {
   "cell_type": "markdown",
   "id": "903f17b3-5d9c-4d05-92b3-8de1c2b3d256",
   "metadata": {},
   "source": [
    "In `HTML` the `<p>` tag "
   ]
  },
  {
   "cell_type": "markdown",
   "id": "642c1ac0-d458-4a73-955a-db7c71937e6c",
   "metadata": {},
   "source": [
    "```\n",
    "<p>This is a paragraph</p>\n",
    "```"
   ]
  },
  {
   "cell_type": "markdown",
   "id": "d5181a63-4a70-4183-937c-9059bd872143",
   "metadata": {},
   "source": [
    "```\n",
    "<body>\n",
    "    <p>This is a paragraph</p>\n",
    "</body>\n",
    "```"
   ]
  },
  {
   "cell_type": "markdown",
   "id": "98739870-6210-4977-8455-215a561b2c80",
   "metadata": {},
   "source": [
    "__bold text__"
   ]
  },
  {
   "cell_type": "markdown",
   "id": "ff68db01-eefc-4158-ae54-cee5f2b9d268",
   "metadata": {},
   "source": [
    "1. Hi\n",
    "2. There\n",
    "3. Hello\n",
    "4. back"
   ]
  },
  {
   "cell_type": "markdown",
   "id": "3f659c94-8e49-4999-80a4-b21d0216781e",
   "metadata": {},
   "source": [
    "*italic*"
   ]
  },
  {
   "cell_type": "markdown",
   "id": "da1bc9f4-0df1-4111-9965-74effc135625",
   "metadata": {},
   "source": [
    "**skibidi**"
   ]
  },
  {
   "cell_type": "markdown",
   "id": "b3e19206-22bf-40cb-a78c-eb5e77f24514",
   "metadata": {},
   "source": [
    "_italic_ \n",
    "*italic*"
   ]
  },
  {
   "cell_type": "markdown",
   "id": "5a49578e-df2a-4f16-84e2-011b4459b952",
   "metadata": {},
   "source": [
    "_italic_  *italic*"
   ]
  },
  {
   "cell_type": "markdown",
   "id": "10da810b-2588-4380-aedf-ffa8a661a97b",
   "metadata": {},
   "source": [
    "_italic_"
   ]
  },
  {
   "cell_type": "markdown",
   "id": "6b8f88a1-4b5d-4dde-b8da-832752289492",
   "metadata": {},
   "source": [
    "*italic*"
   ]
  },
  {
   "cell_type": "markdown",
   "id": "16eb0fa1-1009-4ec0-9ff5-9ad3bb39a3c2",
   "metadata": {},
   "source": [
    "[skibIDI](https://i.pinimg.com/originals/39/5e/7c/395e7c6e91526cc5b1b62c468180f53d.jpg)"
   ]
  },
  {
   "cell_type": "markdown",
   "id": "268c53ac-e623-4a09-98b4-4b679e575a24",
   "metadata": {},
   "source": [
    "HTML is the standard language for creating web pages. It uses a series of elements represented by tags, like this: "
   ]
  },
  {
   "cell_type": "markdown",
   "id": "b6e8fa7d-9549-4bd0-b957-9528858b049d",
   "metadata": {},
   "source": [
    "```\n",
    "<!DOCTYPE html>\n",
    "<html>\n",
    "    <head>\n",
    "    <title>Page Title</title>\n",
    "    </head>\n",
    "   <body>\n",
    "        <h1>This is a Heading</h1>\n",
    "        <p>This is a paragraph</p>\n",
    "    <body>\n",
    "</html>\n",
    "```\n",
    "key elements\n",
    "```\n",
    "<<!DOCTYPE html> Declares the document as HTML5.\n",
    "\n",
    "<html> The root element of the HTML document.\n",
    "\n",
    "<head> Contains meta-informatoin about the document (e.g., title, links to stylesheets).\n",
    "\n",
    "<body> Contains the content of the document.\n",
    "```\n"
   ]
  },
  {
   "cell_type": "markdown",
   "id": "428a51be",
   "metadata": {},
   "source": [
    "Common HTML tags"
   ]
  },
  {
   "cell_type": "markdown",
   "id": "46d32500",
   "metadata": {},
   "source": [
    "Headings\n",
    "HTML offers six levels of headingss from < h1> to < h6>, wehre < h1> is the highest (or most important) level\n",
    "```\n",
    "<h1>the most important heading</h1>\n",
    "<h2>second most important/subheading</h2>\n",
    "<h3>third most important/sub-subheading</h3>\n",
    "```"
   ]
  },
  {
   "cell_type": "markdown",
   "id": "827b5645",
   "metadata": {},
   "source": [
    "paragraphs\n",
    "```\n",
    "paragraphs are created using the <p> tag\n",
    "<p>this text is a paragraph.</p>\n",
    "```"
   ]
  },
  {
   "cell_type": "markdown",
   "id": "4fc330ca",
   "metadata": {},
   "source": [
    "links\n",
    " are created with the < a> tag, which included an href attribute to specify the URL.\n",
    "```\n",
    "<a href=\"https://variety.com/2024/film/news/skibidi-toilet-michael-bay-movie-adam-goodman-1236077245/> click here</a>\n",
    "```"
   ]
  },
  {
   "cell_type": "markdown",
   "id": "584b2863",
   "metadata": {},
   "source": [
    "images\n",
    " are embedded using the < img> tag with src and alt attributes.\n",
    "```\n",
    "<img src=\"https://i.pinimg.com/originals/39/5e/7c/395e7c6e91526cc5b1b62c468180f53d.jpg\" alt=\"mulch\">\n",
    "```"
   ]
  },
  {
   "cell_type": "markdown",
   "id": "8edbf0f3",
   "metadata": {},
   "source": [
    "lists, there are two main types of lists: ordered < ol> and unordered < ul>. an unordered list will have dots or a decorator at the beginning of the list, while an ordered list will be numbered.\n",
    "```\n",
    "<ul>\n",
    "    <li>skibidi</li>\n",
    "    <li>skibidi toilet</li>\n",
    "    <li>skibidi toilet movie</li>\n",
    "</ul>\n",
    "\n",
    "<ol>\n",
    "    <li>detroit</li>\n",
    "    <li>ohio</li>\n",
    "    <li>europe</li>\n",
    "</ol>\n",
    "```"
   ]
  },
  {
   "cell_type": "markdown",
   "id": "4217d5b0",
   "metadata": {},
   "source": [
    "attributes, HTML elements can have attributes, which provide additional information about the element. Attributes are always defined in the opening tag and usually come in name/value pairs. There are many different types of attributes that can be applied to HTML tags.\n",
    "```\n",
    "example: \n",
    "<a href=\"https://www.homedepot.com/b/Outdoors-Garden-Center-Landscaping-Supplies-Mulch/N-5yc1vZbx4a\" target=\"_blank\">mulch</a>\n",
    "href specifies the link's destination. \n",
    "target=\"_blank\" Opens the link in a new tab\n",
    "```"
   ]
  },
  {
   "cell_type": "markdown",
   "id": "de4c4d4a",
   "metadata": {},
   "source": [
    "divs and spans. < div> defines a division or secction in an HTML document. it's often used to group elements for styling or layout. < span> An inline container used to group content for styling or scripting\n",
    "```\n",
    "example\n",
    "<div>\n",
    "    <h1>firstttt heading</h1>\n",
    "    <p>this paragraph MIGHT be inside a div.</p>\n",
    "</div>\n",
    "\n",
    "<span>i still dont know what a span does but this is inside a span.</span>\n",
    "```"
   ]
  },
  {
   "cell_type": "markdown",
   "id": "a4fa91c7",
   "metadata": {},
   "source": [
    "HTML forms collect user input. A form usually contains input, textarea, select, and button elements.\n",
    "```\n",
    "<form action=\"/submit\" method=\"post\">\n",
    "    <label for=\"name\">Name:</label>\n",
    "    <input type=\"text\" id=\"name\" name=\"name\">\n",
    "    <input type=\"submit\" value=\"Submit\">\n",
    "</form>\n",
    "```"
   ]
  },
  {
   "cell_type": "markdown",
   "id": "308fecd0",
   "metadata": {},
   "source": [
    "Semantic HTML, HTML5 introduced new semantic elements to provide better meanings to web pages. This is for better code readability, accessibility for those living with disabilities and many other benefits.\n",
    "```\n",
    "<header> Defines a header section\n",
    "\n",
    "<nav> Defines a navigation bar.\n",
    "\n",
    "<section> Defines a section in a document \n",
    "\n",
    "<article> Defines independent content.\n",
    "\n",
    "<footer> Defines a footer for a document or section.\n",
    "```\n",
    "\n",
    "Examples of a Semantic HTML\n",
    "\n",
    "```\n",
    "<header>\n",
    "    <h1>Im pretty sure that this is a header idk tho</h1>\n",
    "</header>\n",
    "\n",
    "<nav>\n",
    "    <a href=\"/home\">Home</a>\n",
    "    <a href=\"/about\">Aboout</a>\n",
    "</nav>\n",
    "\n",
    "<section>\n",
    "    <article>\n",
    "        <h2>title for something maybe</h2>\n",
    "        <p> information about the title for something maybe</p>\n",
    "    </article>\n",
    "</section>\n",
    "\n",
    "<footer>\n",
    "    <p>content about the footer perhaps</p>\n",
    "</footer>\n",
    "```"
   ]
  },
  {
   "cell_type": "markdown",
   "id": "bd720e28",
   "metadata": {},
   "source": []
  }
 ],
 "metadata": {
  "kernelspec": {
   "display_name": "Python 3 (ipykernel)",
   "language": "python",
   "name": "python3"
  },
  "language_info": {
   "codemirror_mode": {
    "name": "ipython",
    "version": 3
   },
   "file_extension": ".py",
   "mimetype": "text/x-python",
   "name": "python",
   "nbconvert_exporter": "python",
   "pygments_lexer": "ipython3",
   "version": "3.12.1"
  }
 },
 "nbformat": 4,
 "nbformat_minor": 5
}
